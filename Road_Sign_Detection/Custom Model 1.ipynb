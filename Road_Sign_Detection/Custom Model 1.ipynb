{
 "cells": [
  {
   "cell_type": "code",
   "execution_count": null,
   "source": [
    "import numpy as np\r\n",
    "import tensorflow as tf\r\n",
    "import matplotlib.pyplot as plt\r\n",
    "\r\n",
    "from keras.models import Sequential, load_model\r\n",
    "from keras.layers import Dense, Flatten, Conv2D, MaxPooling2D, Dropout, BatchNormalization\r\n",
    "from keras.utils import image_dataset_from_directory\r\n",
    "from keras.preprocessing.image import ImageDataGenerator"
   ],
   "outputs": [],
   "metadata": {}
  },
  {
   "cell_type": "code",
   "execution_count": null,
   "source": [
    "DATASET_DIR = './dataset/'\r\n",
    "\r\n",
    "train_generator = ImageDataGenerator(\r\n",
    "    rescale=1./255, \r\n",
    "    rotation_range=30,\r\n",
    "    width_shift_range=0.25,\r\n",
    "    height_shift_range=0.25,\r\n",
    "    brightness_range=(0.25, 1.25),\r\n",
    "    zoom_range=0.25\r\n",
    ")\r\n",
    "\r\n",
    "test_generator = ImageDataGenerator(\r\n",
    "    rescale=1./255\r\n",
    ")\r\n",
    "\r\n",
    "train = train_generator.flow_from_directory('./dataset/Train', target_size=(128, 128), class_mode='categorical', batch_size=512)\r\n",
    "test = test_generator.flow_from_directory('./dataset/Test', target_size=(128, 128), class_mode='categorical', batch_size=1, shuffle=False)"
   ],
   "outputs": [],
   "metadata": {}
  },
  {
   "cell_type": "code",
   "execution_count": null,
   "source": [
    "model = Sequential()\r\n",
    "\r\n",
    "model.add(Conv2D(16, kernel_size=(3, 3), input_shape=(128, 128, 3), activation='relu'))\r\n",
    "model.add(Conv2D(16, kernel_size=(3, 3), input_shape=(128, 128, 3), activation='relu'))\r\n",
    "model.add(MaxPooling2D(pool_size=(2, 2)))\r\n",
    "model.add(BatchNormalization())\r\n",
    "\r\n",
    "model.add(Conv2D(32, kernel_size=(3, 3), activation='relu'))\r\n",
    "model.add(Conv2D(32, kernel_size=(3, 3), activation='relu'))\r\n",
    "model.add(MaxPooling2D(pool_size=(2, 2)))\r\n",
    "model.add(BatchNormalization())\r\n",
    "\r\n",
    "model.add(Conv2D(64, kernel_size=(3, 3), activation='relu'))\r\n",
    "model.add(Conv2D(64, kernel_size=(3, 3), activation='relu'))\r\n",
    "model.add(MaxPooling2D(pool_size=(2, 2)))\r\n",
    "model.add(BatchNormalization())\r\n",
    "\r\n",
    "model.add(Flatten())\r\n",
    "\r\n",
    "model.add(Dense(128, activation='relu'))\r\n",
    "model.add(Dropout(0.5))\r\n",
    "model.add(BatchNormalization())\r\n",
    "\r\n",
    "model.add(Dense(43, activation='softmax'))\r\n",
    "\r\n",
    "model.compile(optimizer='adam', loss='categorical_crossentropy', metrics='accuracy')"
   ],
   "outputs": [],
   "metadata": {}
  },
  {
   "cell_type": "code",
   "execution_count": null,
   "source": [
    "model.summary()"
   ],
   "outputs": [],
   "metadata": {}
  },
  {
   "cell_type": "code",
   "execution_count": null,
   "source": [
    "history = model.fit(train, validation_data=test, epochs=20, shuffle=True)"
   ],
   "outputs": [],
   "metadata": {}
  },
  {
   "cell_type": "code",
   "execution_count": null,
   "source": [
    "#history = history.history\n",
    "plt.figure()\n",
    "plt.plot(history['loss'])\n",
    "plt.plot(history['val_loss'])\n",
    "plt.grid()\n",
    "plt.legend(['loss', 'val_loss'])\n",
    "plt.show()\n",
    "\n",
    "plt.figure()\n",
    "plt.plot(history['accuracy'])\n",
    "plt.plot(history['val_accuracy'])\n",
    "plt.grid()\n",
    "plt.legend(['accuracy', 'val_accuracy'])\n",
    "plt.show()"
   ],
   "outputs": [],
   "metadata": {}
  },
  {
   "cell_type": "code",
   "execution_count": null,
   "source": [
    "model.evaluate(test)"
   ],
   "outputs": [],
   "metadata": {}
  },
  {
   "cell_type": "code",
   "execution_count": null,
   "source": [
    "model = load_model('model_augment.h5')"
   ],
   "outputs": [],
   "metadata": {}
  },
  {
   "cell_type": "code",
   "execution_count": null,
   "source": [
    "pred_y = model.predict(test)\n",
    "pred_y = np.argmax(pred_y, axis=1)"
   ],
   "outputs": [],
   "metadata": {}
  },
  {
   "cell_type": "code",
   "execution_count": null,
   "source": [
    "def display_confusion_matrix(cmat):\n",
    "    plt.figure(figsize=(15,15))\n",
    "    ax = plt.gca()\n",
    "    ax.matshow(cmat, cmap='Blues')\n",
    "    ax.set_xticks(range(43))\n",
    "    ax.set_xticklabels(range(43), fontdict={'fontsize': 7})\n",
    "    plt.setp(ax.get_xticklabels(), rotation=45, ha=\"left\", rotation_mode=\"anchor\")\n",
    "    ax.set_yticks(range(43))\n",
    "    ax.set_yticklabels(range(43), fontdict={'fontsize': 7})\n",
    "    plt.setp(ax.get_yticklabels(), rotation=45, ha=\"right\", rotation_mode=\"anchor\")\n",
    "    titlestring = \"\"\n",
    "\n",
    "    if len(titlestring) > 0:\n",
    "        ax.text(101, 1, titlestring, fontdict={'fontsize': 18, 'horizontalalignment':'right', 'verticalalignment':'top', 'color':'#804040'})\n",
    "    plt.show()"
   ],
   "outputs": [],
   "metadata": {}
  },
  {
   "cell_type": "code",
   "execution_count": null,
   "source": [
    "from sklearn.metrics import confusion_matrix\n",
    "\n",
    "confusion_matrix = confusion_matrix(y_true=test.classes, y_pred=pred_y)\n",
    "display_confusion_matrix(confusion_matrix)"
   ],
   "outputs": [],
   "metadata": {}
  },
  {
   "cell_type": "code",
   "execution_count": null,
   "source": [],
   "outputs": [],
   "metadata": {}
  }
 ],
 "metadata": {
  "interpreter": {
   "hash": "55c6a2e0e18dc75fc190ca9a8b9514b86abbb0a92e5fefdb450b68bdaef9f656"
  },
  "kernelspec": {
   "display_name": "Python 3 (ipykernel)",
   "language": "python",
   "name": "python3"
  },
  "language_info": {
   "codemirror_mode": {
    "name": "ipython",
    "version": 3
   },
   "file_extension": ".py",
   "mimetype": "text/x-python",
   "name": "python",
   "nbconvert_exporter": "python",
   "pygments_lexer": "ipython3",
   "version": "3.10.8"
  }
 },
 "nbformat": 4,
 "nbformat_minor": 5
}